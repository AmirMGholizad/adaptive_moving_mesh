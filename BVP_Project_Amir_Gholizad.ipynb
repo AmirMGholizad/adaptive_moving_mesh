{
  "nbformat": 4,
  "nbformat_minor": 0,
  "metadata": {
    "colab": {
      "provenance": []
    },
    "kernelspec": {
      "name": "python3",
      "display_name": "Python 3"
    },
    "language_info": {
      "name": "python"
    }
  },
  "cells": [
    {
      "cell_type": "code",
      "source": [
        "### Attention!\n",
        "####  Because of the stored data in memory, it is nessecary to execute the\n",
        "####   the entire project to see the results. For this purpose it is recommended\n",
        "####   to do \"Restart and run all\".\n",
        "### Attention!"
      ],
      "metadata": {
        "id": "xea4KjmKYodg"
      },
      "execution_count": null,
      "outputs": []
    },
    {
      "cell_type": "code",
      "source": [
        "#############     This project belongs to Amir Gholizad     ###############\n",
        "#######     M.Sc. Physics, Memorial University of Newfoundland      #######\n",
        "#############     Designed for the CMSC 6920, Feb. 2023     ###############"
      ],
      "metadata": {
        "id": "9EjODmneRJYe"
      },
      "execution_count": null,
      "outputs": []
    },
    {
      "cell_type": "markdown",
      "source": [
        "**Adaptive Moving Mesh**\n",
        "\n",
        "To effectively solve a BVP, the mesh points need to be focused near the steep\n",
        "front and continuously adapted to keep up with the front's movement over time.\n",
        "This kind of flexible mesh is called an *adaptive moving mesh*.\n",
        "\n",
        "**Equidistribution**\n",
        "\n",
        "To adjust the mesh in order to follow the front as it moves we can use a method based on the equidistribution principle, which aims to evenly distribute an error density function among all mesh elements. In one dimension, the equidistribution principle can uniquely determine a mesh for a given mesh density function, along with appropriate boundary conditions.\n",
        "\n",
        "Equidistribution is a crucial concept in mesh adaptation. It involves creating a mesh that evenly distributes a given continuous function, represented by $M(x_i)$, over a bounded interval $[\\alpha, \\beta]$. The mesh is defined by a set of $n$ points on the interval, $x_{\\alpha} = \\alpha, x_0, ..., x_n, x_{\\beta} = \\beta$, and it is called an equidistributing mesh if the area under the function $M(x_i)$ is the same for every subinterval between the mesh points.\n",
        "The mathematical form of this principle is\n",
        "<center>$\\int_{x_{\\alpha}}^{x_{0}}M(x,u(x))dx=...=\\int_{x_{n}}^{x_\\beta}M(x,u(x))dx. \\: \\: (1)$  \n",
        "</center>\n",
        "\n",
        "The objective is to determine the optimum mesh for $u(x)$ using $M$ which is the *mesh density function*.The mesh density function is proportional to the density of the mesh when the equidistribution principle is satisfied. It must be non-negative, meaning that it can vanish locally, which may lead to non-unique equidistributing meshes. Therefore, the assumption is made that any mesh density function is strictly positive on the interval $[\\alpha, \\beta]$.\n",
        "\n",
        "If we refer to the Fundamental Theorem of Calculus, for the entire interval of $[\\alpha, \\beta]$ we can say\n",
        "\n",
        "<center>$ \\frac{1}{n} \\int_{x_{\\alpha}}^{x_\\beta}M(x,u(x))dx=\\int_{x_{i}}^{x_{i+1}}M(x,u(x))dx. \\: \\: (2)$  \n",
        "</center>\n",
        "\n",
        "Also, if we define $\\xi$ as $\\xi = \\frac{1}{n}$ and consequently for discrete space $\\xi_i = \\frac{i}{n}$ we will get\n",
        "\n",
        "<center>$ \\xi \\int_{x_{\\alpha}}^{x_\\beta}M(x,u(x))dx=\\int_{x_{i}}^{x_{i+1}}M(x,u(x))dx. \\: \\: (3)$  \n",
        "</center>\n",
        "\n",
        "By differentiating both sides of Eq.(2) with respect to $\\xi$ we find\n",
        "\n",
        "<center>$ \\int_{x_{\\alpha}}^{x_\\beta}M(x,u(x))dx = M(x(\\xi),u(x))\\frac{dx}{d\\xi} \\: \\: (4)$  \n",
        "</center>\n",
        "\n",
        "and second differentiation gives us\n",
        "\n",
        "<center>$ \\frac{d}{d\\xi}(M(x(\\xi),u(x))\\frac{dx}{d\\xi}) = 0. \\: \\: (5)$  \n",
        "</center>\n",
        "\n",
        "In this project our aim is to solve the Eq.(5) using a uniform grid $\\xi$ as our initial guess, a pre-defined mesh density function $M$, the original function $u$ and find the final $x$ as our adaptive mesh for $u$. We will solve this equation using Newton's Method.\n",
        "\n",
        "**Newton's Method**\n",
        "\n",
        "Newton's Method is an iterative numerical method for finding the roots of a function. It starts with an initial guess for the root and then uses the derivative of the function to refine the estimate. The general idea is to iteratively improve an initial guess for the root by finding the zero of a linear approximation to the function at that point.\n",
        "\n",
        "**The Algorithm**\n",
        "\n",
        "Using a uniform grid like $x_i = \\xi_i = \\frac{i}{n}$ we can discretize the Eq.(5) and get to\n",
        "<center>$ \\frac{1}{2Δ\\xi^2}((M_{i+1} + M_{i})(x_{i+1} - x_i) - (M_{i} + M_{i-1})(x_{i} - x_{i-1})) = 0. \\: \\: (6)$\n",
        "</center>\n",
        "\n",
        "We also asume that $x_{\\alpha} = \\alpha = 0$ and $x_{\\beta} = \\beta = 1$.\n",
        "\n",
        "If we redefine the Eq.(6) as $G_i = 0$, the Newton's method will take the form\n",
        "<center>\n",
        "$ \\Sigma_{j} J_{ij}.Δx_j = - G_i. \\: \\: (7)$\n",
        "</center>\n",
        "\n",
        "Here's how the algorithm works:\n",
        "\n",
        " -  We start with an initial guess $x = \\xi = \\frac{1}{n}$ for the root of the function $G(\\xi)$.\n",
        "\n",
        " - We compute the Jacobian matrix of the function $G(\\xi)$ at the guess $\\xi$.\n",
        "\n",
        " - Using Eq.(7), we find the difference between $x$-intercept of the tangent line to the graph of $G(\\xi)$ and $\\xi$ and add it to $\\xi$ to get the next guess for the root, $x$.\n",
        "\n",
        " - We repeat steps 2-4 with the new guess $x$ until the desired level of accuracy is achieved.\n"
      ],
      "metadata": {
        "id": "6qZ1fIyrh66U"
      }
    },
    {
      "cell_type": "code",
      "source": [
        "# START #######################################################################\n",
        "###############################################################################\n",
        "# Adding required packages\n",
        "import numpy as np\n",
        "from scipy.sparse import diags\n",
        "import pandas as pd\n",
        "import matplotlib.pyplot as plt"
      ],
      "metadata": {
        "id": "k3x3InNvc0Hg"
      },
      "execution_count": null,
      "outputs": []
    },
    {
      "cell_type": "code",
      "source": [
        "# Defining the required constants as global variables\n",
        "n = 16      # Number of total nodes + 1\n",
        "start = 0   # Start point of Xi\n",
        "stop = 1    # Stop point of Xi\n",
        "alpha = 0   # Initial value of X\n",
        "beta = 1    # Boundary value of X\n",
        "h = ( stop - start) / (n - 1)   # Spacing between the Xi nodes"
      ],
      "metadata": {
        "id": "D2ho0MmHr31K"
      },
      "execution_count": null,
      "outputs": []
    },
    {
      "cell_type": "code",
      "source": [
        "# Defining equidistributed initial grid, Xi\n",
        "# This vector contains only the interior nodes starting from Xi(start + h)\n",
        "#  to Xi(stop - h).\n",
        "def Xi():\n",
        "  return np.array( [i/(n-1) for i in range(1,n-1)] )   # Xi[i] = i/n-1"
      ],
      "metadata": {
        "id": "xmJtq92Xr3wQ"
      },
      "execution_count": null,
      "outputs": []
    },
    {
      "cell_type": "markdown",
      "source": [
        "For the first part of the project we define $M$ as\n",
        "$M(x_i) = 1 + Cx_{i}^2$"
      ],
      "metadata": {
        "id": "ZlEHJ4d8J0St"
      }
    },
    {
      "cell_type": "code",
      "source": [
        "# Defining the M(X,C) function whcih takes Xi(or X) and C(boundary layer),\n",
        "#  and gives out M and dM/dx in every node\n",
        "def M(X,C):\n",
        "  m_ = 1 + C*(X**2)\n",
        "  m_prime = C*2*X\n",
        "  return m_, m_prime"
      ],
      "metadata": {
        "id": "xs06s7Otr3r7"
      },
      "execution_count": null,
      "outputs": []
    },
    {
      "cell_type": "markdown",
      "source": [
        "We remember from Eq.(6) that\n",
        "$ G_{i} = \\frac{1}{2Δ\\xi^2}((M_{i+1} + M_{i})(x_{i+1} - x_i) - (M_{i} + M_{i-1})(x_{i} - x_{i-1})) = 0$"
      ],
      "metadata": {
        "id": "kj8y7yNSJPlS"
      }
    },
    {
      "cell_type": "code",
      "source": [
        "# Defining the G function which basically is the ODE of function M.\n",
        "# We will use this function in Newton's Method which is: J * dX = -G\n",
        "def G(x,C):\n",
        "\n",
        "  # Updating M values\n",
        "  m, mp = M(x,C)\n",
        "  alpha_m, alpha_mp = M(alpha,C)\n",
        "  beta_m, beta_mp = M(beta,C)\n",
        "\n",
        "  # Initializing G vector\n",
        "  gg = [0 for i in range(0, len(x))]\n",
        "  N = len(x) - 1\n",
        "\n",
        "  # Building G vector by adding its entries\n",
        "  for i in range(1,N):\n",
        "    gg[i] = ((m[i+1] + m[i])*(x[i+1] - x[i]) - (m[i] + m[i-1])*(x[i] - x[i-1]))\n",
        "\n",
        "  # As the Xi(or X) and M vectors are only defined for internal nodes,\n",
        "  #  we need to hard-code the G's first and last entries\n",
        "  gg[0] = ((m[1] + m[0])*(x[1] - x[0]) - (m[0] + alpha_m)*(x[0] - alpha))\n",
        "  gg[-1] = ((beta_m + m[-1])*(beta - x[-1]) - (m[-1] + m[-2])*(x[-1] - x[-2]))\n",
        "\n",
        "  return np.array(gg)"
      ],
      "metadata": {
        "id": "Z-NE1r4jr3kb"
      },
      "execution_count": null,
      "outputs": []
    },
    {
      "cell_type": "markdown",
      "source": [
        "When defining Jacobian, we should note that it is a diagonalized matrix with 3 diagonals which are\n",
        "\n",
        "$J_{i, i-1} = M^{'}_{i-1} (x_{i-1} - x_{i}) + M_{i-1} + M_{i}$\n",
        "\n",
        "$J_{i,i} = M^{'}_{i} (x_{i+1} - x_{i}) - (M_{i+1} + M_{i}) - M^{'}_{i}(x_{i}-x_{i-1}) - (M_{i} + M_{i-1})$\n",
        "\n",
        "$J_{i,i+1} = M^{'}_{i+1} (x_{i+1} - x_{i}) + M_{i+1} + M_{i}$"
      ],
      "metadata": {
        "id": "C_5j2DkqF2oV"
      }
    },
    {
      "cell_type": "code",
      "source": [
        "# Defining the Jacobian matrix.\n",
        "# We will use this matrix in Newton's Method which is: J * dX = -G\n",
        "def J(x,C):\n",
        "\n",
        "   # Updating M values\n",
        "   m, mp = M(x,C)\n",
        "   alpha_m, alpha_mp = M(alpha,C)\n",
        "   beta_m, beta_mp = M(beta,C)\n",
        "\n",
        "   # Initializing three diagonals of Jacobian\n",
        "   N = len(x) - 1\n",
        "\n",
        "   # This is J[i][i-1] diagonal\n",
        "   j_1 = [0 for i in range(0, len(x))]\n",
        "\n",
        "   # This is J[i][i] diagonal (the main diagonal)\n",
        "   j_2 = [0 for i in range(0, len(x))]\n",
        "\n",
        "   # This is J[i][i+1] diagonal\n",
        "   j_3 = [0 for i in range(0, len(x))]\n",
        "\n",
        "   # Building Jacobian diagonals by adding their entries\n",
        "   for i in range(1, N):\n",
        "     # Covers the range from J[1][0] to J[N][N-1]\n",
        "     j_1[i] = mp[i-1] * (x[i-1] - x[i]) + m[i-1] + m[i]\n",
        "\n",
        "     # Covers the range from J[1][1] to J[N][N]\n",
        "     j_2[i] = mp[i]*(x[i+1]-x[i])-m[i+1] - m[i]-mp[i]*(x[i]-x[i-1])-m[i]-m[i-1]\n",
        "\n",
        "     # Covers the range from J[0][1] to J[N][N+1]\n",
        "     j_3[i] = mp[i+1] * (x[i+1] - x[i]) + m[i+1] + m[i]\n",
        "\n",
        "\n",
        "   # We need to hard-code the last entry of lower diagonal\n",
        "   j_1[-1] = mp[-2] * (x[-2] - x[-1]) + m[N-1] + m[N]\n",
        "\n",
        "   # We need to hard-code the first and last entries of main diagonal\n",
        "   j_2[0] = mp[0]*(x[1]-x[0]) - m[1] - m[0] - mp[0]*(x[0]-alpha) - m[0]-alpha_m\n",
        "   j_2[-1] = mp[-1]*(beta-x[-1])-beta_m-m[-1]-mp[-1]*(x[-1]-x[-2])-m[-1]-m[-2]\n",
        "\n",
        "   # We need to hard-code the first entry of upper diagonal\n",
        "   j_3[0] = mp[1] * (x[1] - x[0]) + m[1] + m[0]\n",
        "\n",
        "   # Note that upper and lower diagonals should be smaller than main diagonal. #\n",
        "    ###### So we drop the first entry of j_1 and the last entry of j_3. ######\n",
        "   j = diags([j_1[1:], j_2, j_3[:-1]], [-1,0,1], shape= (N+1,N+1)).toarray()\n",
        "   return j"
      ],
      "metadata": {
        "id": "KryxQLULr3ac"
      },
      "execution_count": null,
      "outputs": []
    },
    {
      "cell_type": "code",
      "source": [
        "# Defining the iterative Newton's algorithm for solving ODEs.\n",
        "def Newton(x,C):\n",
        "\n",
        "  # Some (not necessary but useful!) simplifications!\n",
        "  m, mp = M(x,C)\n",
        "  alpha_m, alpha_mp = M(alpha,C)\n",
        "  beta_m, beta_mp = M(beta,C)\n",
        "  g = G(x,C)\n",
        "  jacob = J(x,C)\n",
        "\n",
        "  # DeltaX is the Correction which will be added to X in every iteration.\n",
        "  DeltaX = np.ones(len(x))\n",
        "  # The Counter is the number of iterations that it takes solve the equation.\n",
        "  counter = 0\n",
        "\n",
        "  while abs(np.average(DeltaX)) > 0.000001:\n",
        "    # Solving J * DeltaX = -G\n",
        "    DeltaX = np.linalg.solve(jacob,-g)\n",
        "    # Updating X\n",
        "    x = x + DeltaX\n",
        "    # Updating M, G and J\n",
        "    m, mp = M(x,C)\n",
        "    alpha_m, alpha_mp = M(alpha,C)\n",
        "    beta_m, beta_mp = M(beta,C)\n",
        "    g = G(x,C)\n",
        "    jacob = J(x,C)\n",
        "    counter += 1\n",
        "    continue\n",
        "\n",
        "  return x , counter"
      ],
      "metadata": {
        "id": "WUljhMK3ghjm"
      },
      "execution_count": null,
      "outputs": []
    },
    {
      "cell_type": "code",
      "source": [
        "# This function creates X vs Xi and dX vs Xi graphs which are obtained from\n",
        "#  newton's method. We can get graphs for different values of C(boundary layer).\n",
        "def Grapher(C):\n",
        "\n",
        "  # Getting an initial Xi\n",
        "  xi = Xi()\n",
        "  # Calling Newton function to solve the mesh ODE for given Xi and C\n",
        "  answer, iterations = Newton(xi,C)\n",
        "\n",
        "  # Redefining X and Xi so that they contain boundary values\n",
        "  finalX = np.zeros(len(xi)+2).reshape(len(xi)+2)\n",
        "  finalXi = np.zeros(len(xi)+2).reshape(len(xi)+2)\n",
        "  finalX[0]= alpha\n",
        "  finalX[-1] = beta\n",
        "  finalXi[0]= start\n",
        "  finalXi[-1] = stop\n",
        "  finalX[1:len(xi)+1] = answer\n",
        "  finalXi[1:len(xi)+1] = Xi()\n",
        "  dx = finalX[1:] - finalX[:-1]\n",
        "  # dx is the spacings in new X not the DeltaX(correction) from Newton's method.\n",
        "\n",
        "  # Plotting!\n",
        "  fig = plt.figure(figsize=(15, 6))\n",
        "  ax1 = fig.add_subplot(121)\n",
        "  ax2 = fig.add_subplot(122)\n",
        "\n",
        "\n",
        "  ax1.scatter(finalXi,finalX,label='C = {}'.format(C),linewidth =0.25,c='black')\n",
        "  ax1.set_xlabel('Xi')\n",
        "  ax1.set_ylabel('X')\n",
        "  ax1.set_title(f\"X vs Xi - Number of iterations: {iterations}\")\n",
        "  ax1.legend();\n",
        "\n",
        "  ax2.scatter(finalXi[1:],dx,label='C = {}'.format(C),linewidth =0.25,c='r')\n",
        "  ax2.set_xlabel('Xi')\n",
        "  ax2.set_ylabel('dX')\n",
        "  ax2.set_title(\"dX vs Xi\")\n",
        "  ax2.legend();"
      ],
      "metadata": {
        "id": "0iQHCKfJ-prc"
      },
      "execution_count": null,
      "outputs": []
    },
    {
      "cell_type": "code",
      "source": [
        "#We solve the mesh ODE for a uniform Xi and different values of C\n",
        "# # Un-comment these lines below if you want to see the results!\n",
        "\n",
        "# for c in [1,10,100]:\n",
        "#   Grapher(c)\n",
        "\n",
        "# plt.show()"
      ],
      "metadata": {
        "id": "q9UrMvOZL7wL"
      },
      "execution_count": null,
      "outputs": []
    },
    {
      "cell_type": "markdown",
      "source": [
        "Running the Newton's method for $n = 15$ for different values of $C = 1, 10, 100$ we get these graphs of $x$ vs $\\xi$ and $Δx$ vs $\\xi$:\n",
        "\n",
        "![c1.png](data:image/png;base64,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)![c10.png](data:image/png;base64,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)![c100.png](data:image/png;base64,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)"
      ],
      "metadata": {
        "id": "1xDDsI4hXRyV"
      }
    },
    {
      "cell_type": "markdown",
      "source": [
        "By observing these graphs we notice a few things.\n",
        "\n",
        "For $Δx$ vs $\\xi$ we see drastic changes for bigger values of $C$. These graphs show that for $C = 10, 100$ the distance between two adjacent points located at the end of the interval becomes much smaller, hence the density of the nodes gets much bigger.\n",
        "\n",
        "Also, bigger values of $C$ results in more iterations through Newton's method to achieve the desirable accuracy."
      ],
      "metadata": {
        "id": "TnpIFj3NYO8-"
      }
    },
    {
      "cell_type": "markdown",
      "source": [
        "For the last part of the project we choose the boundary layer problem with exact solution on this [webpsite](https://www.wolfram.com/language/12/asymptotics/solve-boundary-layer-odes-asymptoticdsolvevalue.html?product=mathematica).\n",
        "The ODE of this function is\n",
        "<center>$Lu^{''}(x) + 2u^{'}(x) + u(x) = 0$\n",
        "\n",
        "$u(0) = 0, u(1) = \\frac{1}{2}$\n",
        "</center>\n",
        "and the exact solution is\n",
        "<center>\n",
        "$u(x) = - \\frac{ e^{\\frac{1 + \\sqrt{1-L}}{L}} (e^{x\\frac{-1 - \\sqrt{1-L}}{L}} - e^{x\\frac{-1 + \\sqrt{1-L}}{L}}) } {2(-1 + e^{\\frac{2\\sqrt{1-L}}{L}})}.$\n",
        "</center>\n",
        "Having the exact $u$ we obtain the optimum mesh for this function using new mesh density function $M(x) = \\sqrt{1+u_x^2}$ where $u_x$ is the first derivative of $u$."
      ],
      "metadata": {
        "id": "qAm-LCSxYZAY"
      }
    },
    {
      "cell_type": "code",
      "source": [
        "# Defining U\n",
        "def U(x, L):\n",
        "  p1 = (1 + np.sqrt(1-L))/L\n",
        "  p2 = (-1 - np.sqrt(1-L))/L\n",
        "  p3 = (-1 + np.sqrt(1-L))/L\n",
        "  p4 = (np.sqrt(1-L))/L\n",
        "\n",
        "  u = -( np.exp(p1) * ( np.exp(x * p2) - np.exp(x * p3))) / (2*np.exp(2*p4) - 2)\n",
        "  return u\n",
        "\n",
        "# The ODE is: L * U\" + 2 * U' + U = 0 with these boundary conditions:\n",
        "alpha = 0\n",
        "beta = 1\n",
        "\n",
        "# Defining first and second derivatives of U(X)\n",
        "def U_prime(x, L):\n",
        "\n",
        "  u_x = 0.5*(-0.5 * np.exp((1-x)/2) + 2*(np.exp(1/2 - 2*x/L))/L )\n",
        "  u_xx = 0.5*((0.25 * np.exp((1-x)/2) - 4*(np.exp(1/2 - 2*x/L))/(L**2)))\n",
        "  return u_x , u_xx\n",
        "\n",
        "# Redefining M\n",
        "def NewM(X,L):\n",
        "  u_x, u_xx = U_prime(X, L)\n",
        "\n",
        "  m_ = np.sqrt(1 + u_x**2)\n",
        "  m_prime = (u_x * u_xx)/np.sqrt(1 + u_x**2)\n",
        "\n",
        "  return m_ , m_prime\n",
        "\n",
        "# Updating M function\n",
        "M = NewM"
      ],
      "metadata": {
        "id": "1mSjVkF2knXJ"
      },
      "execution_count": null,
      "outputs": []
    },
    {
      "cell_type": "code",
      "source": [
        "# This function creates X vs Xi and dX vs Xi graphs which are obtained from\n",
        "#  newton's method. We can get graphs for different values of C(boundary layer).\n",
        "def Grapher2(xi, answer, iterations, L):\n",
        "\n",
        "  # Redefining X and Xi so that they contain boundary values\n",
        "  finalX = np.zeros(len(xi)+2).reshape(len(xi)+2)\n",
        "  finalXi = np.zeros(len(xi)+2).reshape(len(xi)+2)\n",
        "  finalX[0]= alpha\n",
        "  finalX[-1] = beta\n",
        "  finalXi[0]= start\n",
        "  finalXi[-1] = stop\n",
        "  finalX[1:len(xi)+1] = answer\n",
        "  finalXi[1:len(xi)+1] = xi\n",
        "  dx = finalX[1:] - finalX[:-1]\n",
        "  # dx is the spacings in new X not the DeltaX(correction) from Newton's method.\n",
        "\n",
        "\n",
        "  u = U(finalX, L)\n",
        "\n",
        "\n",
        "  # Plotting!\n",
        "  fig, (ax1, ax2, ax3) = plt.subplots(1,3,figsize=(18, 6))\n",
        "\n",
        "\n",
        "  ax1.scatter(finalXi,finalX,label='L = {}, n = {}'.format(L,n),linewidth=0.005,c='black')\n",
        "  ax1.set_xlabel('xi')\n",
        "  ax1.set_ylabel('x')\n",
        "  ax1.set_title(f\"x vs xi - Number of iterations: {iterations}\")\n",
        "  ax1.legend();\n",
        "\n",
        "  ax2.scatter(finalX,u,label='L = {}, n = {}'.format(L,n),linewidth =0.005,c='r')\n",
        "  ax2.set_xlabel('x')\n",
        "  ax2.set_ylabel('u(x)')\n",
        "  ax2.set_title(\"u vs x\")\n",
        "  ax2.legend();\n",
        "\n",
        "  ax3.scatter(finalXi[1:],dx,label='L = {}, n = {}'.format(L,n),linewidth=0.005,c='black')\n",
        "  ax3.set_xlabel('xi')\n",
        "  ax3.set_ylabel('dx')\n",
        "  ax3.set_title(f\"dx vs xi - Number of iterations: {iterations}\")\n",
        "  ax3.legend();"
      ],
      "metadata": {
        "id": "qMmUJB506GBJ"
      },
      "execution_count": null,
      "outputs": []
    },
    {
      "cell_type": "code",
      "source": [
        "def iterator1(LList):\n",
        "\n",
        "  # Getting an initial Xi\n",
        "  xi = Xi()\n",
        "  # Initiating a list for the number of iterations\n",
        "  Iterations = []\n",
        "\n",
        "  for L in LList:\n",
        "    # Updating M\n",
        "    M = NewM\n",
        "    # Solving Newton's method\n",
        "    answer, Iter = Newton(xi, L)\n",
        "    # Updating Iterations list\n",
        "    Iterations.append(Iter)\n",
        "    Grapher2(xi, answer, Iter, L)\n",
        "\n",
        "  return Iterations"
      ],
      "metadata": {
        "id": "kc797Gl7pPPi"
      },
      "execution_count": null,
      "outputs": []
    },
    {
      "cell_type": "markdown",
      "source": [
        "Now we run the Newton's method for a fixed number of points $n = 15$ and different boundary layers of $ L = 0.001, 0.002, 0.005, 0.01, 0.02, 0.1, 0.5, 0.99$."
      ],
      "metadata": {
        "id": "tAt6UjuQv86K"
      }
    },
    {
      "cell_type": "code",
      "source": [
        "# # Un-comment to see the results\n",
        "# n = 21\n",
        "# LList = [1/1000, 1/500, 1/200, 1/100, 1/50, 1/10, 1/2, 0.99]\n",
        "# iterator1(LList)"
      ],
      "metadata": {
        "id": "fObwqHN-wIcu"
      },
      "execution_count": null,
      "outputs": []
    },
    {
      "cell_type": "markdown",
      "source": [
        "For $ n = 15 $ and mentioned values of $L$ we get results below:\n",
        "\n",
        "<center>\n",
        "$n = 20$\n",
        "\n",
        "|      L     | Iterations |\n",
        "|------------|:------------|\n",
        "|    0.001   |    NaN    |\n",
        "|    0.002   |    NaN    |\n",
        "|    0.005   |    30     |\n",
        "|    0.01    |     21    |\n",
        "|    0.02    |     17    |\n",
        "|    0.1     |     10    |\n",
        "|    0.5     |     4     |\n",
        "|    0.99    |     3     |\n",
        "\n",
        "Table (1)\n",
        "\n",
        "</center>\n",
        "\n",
        "As shown in the table above, with $n = 20$ for boundary layers $L < 0.005$ we encounter data overflow or divergance. We should note that for $L = 1.0$ the original function $u$ becomes mathematically undefined. The key feature we notice from Table (1) is that for a fixed number of nodes $n$ as we increase the value of boundary layer $L$, the number of iterations decreases.\n",
        "\n",
        "Below are two sets of $x$ vs $\\xi$, $u$ vs $x$ and $\\Delta x$ vs $\\xi$ plots for $L = 0.005, 0.99$\n",
        "![n20L0.005.png](data:image/png;base64,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)![n20L0.99.png](data:image/png;base64,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)\n"
      ],
      "metadata": {
        "id": "IUMMg36uxj3b"
      }
    },
    {
      "cell_type": "code",
      "source": [
        "# # Un-comment for the results\n",
        "# nlist = [21,51,101,201, 501,1001,2001]\n",
        "# LList = [0.005 ,0.01, 0.02, 0.1, 0.5, 0.99]\n",
        "# Iterlist = []\n",
        "# for N in nlist:\n",
        "#   n = N\n",
        "#   Iterlist.append(iterator1(LList))\n",
        ""
      ],
      "metadata": {
        "id": "mIGI908h5EpX"
      },
      "execution_count": null,
      "outputs": []
    },
    {
      "cell_type": "markdown",
      "source": [
        "This time, we study the results for different values of $L$ and $n$ to see the relationship between them.\n",
        "\n",
        "<center>\n",
        "\n",
        "\n",
        "|  n   |      L     | Iterations |\n",
        "|------|------------|:-----------|\n",
        "| 20   |    0.005   |    30     |\n",
        "| 20   |    0.01    |    21     |\n",
        "| 20   |    0.02    |    17     |\n",
        "| 20   |    0.1     |    10     |\n",
        "| 20   |    0.5     |    4     |\n",
        "| 20   |    0.99    |    3     |\n",
        "| 50   |    0.005   |    NaN     |\n",
        "| 50   |    0.01    |    NaN     |\n",
        "| 50   |    0.02    |    NaN     |\n",
        "| 50   |    0.1     |    12     |\n",
        "| 50   |    0.5     |    4     |\n",
        "| 50   |    0.99    |    3     |\n",
        "| 100   |    0.005  |    NaN     |\n",
        "| 100   |    0.01   |    NaN     |\n",
        "| 100   |    0.02   |    NaN     |\n",
        "| 100   |    0.1    |    12     |\n",
        "| 100   |    0.5    |    4     |\n",
        "| 100   |    0.99   |    3     |\n",
        "| 200   |    0.005  |    NaN     |\n",
        "| 200   |    0.01   |    NaN     |\n",
        "| 200   |    0.02   |    NaN     |\n",
        "| 200   |    0.1    |    12     |\n",
        "| 200   |    0.5    |    4     |\n",
        "| 200   |    0.99   |    3     |\n",
        "| 500   |    0.005  |    NaN     |\n",
        "| 500   |    0.01   |    NaN     |\n",
        "| 500   |    0.02   |    NaN     |\n",
        "| 500   |    0.1    |    12     |\n",
        "| 500   |    0.5    |    4     |\n",
        "| 500   |    0.99   |    3     |\n",
        "| 1000   |    0.005 |    NaN     |\n",
        "| 1000   |    0.01  |    NaN     |\n",
        "| 1000   |    0.02  |    NaN     |\n",
        "| 1000   |    0.1   |    12     |\n",
        "| 1000   |    0.5   |    4     |\n",
        "| 1000   |    0.99  |    3     |\n",
        "| 2000   |    0.005 |    NaN     |\n",
        "| 2000   |    0.01  |    NaN     |\n",
        "| 2000   |    0.02  |    NaN     |\n",
        "| 2000   |    0.1   |    12     |\n",
        "| 2000   |    0.5   |    4     |\n",
        "| 2000   |    0.99  |   3     |\n",
        "\n",
        "Table (2)\n",
        "\n",
        "\n",
        "</center>\n",
        "\n",
        "\n",
        "As shown in Table (2), for smaller boundary layers, as the number of nodes decreases, the Newton's method doesn't converge to an answer.\n",
        "We also observe the same pattern which appeared in Table (1) for the fixed values of $n$. Another visible pattern is that for a fixed boundary layer $L$ as we add more nodes $n$ to the problem, it takes more iterations to complete the process.\n"
      ],
      "metadata": {
        "id": "BwSymtPN-B0V"
      }
    },
    {
      "cell_type": "code",
      "source": [
        "# Defining iterator2 which solves the Newton's method, gets an initial mesh,\n",
        "#  and then uses that mesh to solve the problem\n",
        "def iterator2(lList):\n",
        "\n",
        "  # Getting an initial Xi\n",
        "  xi = Xi()\n",
        "  # Initiating a list for the number of iterations\n",
        "  Iterations = []\n",
        "  x, temp = Newton(xi, lList[-1])\n",
        "\n",
        "  for L in lList[:-1]:\n",
        "    # Updating M\n",
        "    M = NewM\n",
        "    # Solving Newton's method\n",
        "    answer, Iter = Newton(x, L)\n",
        "    # Updating Iterations list\n",
        "    Iterations.append(Iter)\n",
        "    Grapher2(xi, answer, Iter, L)\n",
        "\n",
        "  return Iterations\n"
      ],
      "metadata": {
        "id": "fuudChELXNke"
      },
      "execution_count": null,
      "outputs": []
    },
    {
      "cell_type": "markdown",
      "source": [
        "For the last part of the project we solve the mesh for $L = 0.99$ and use the result as our initial guess ($\\xi$) for solving the problem for lower values of $L$."
      ],
      "metadata": {
        "id": "1_kP6mnSFeyB"
      }
    },
    {
      "cell_type": "code",
      "source": [
        "# # Un-comment for seeing the results\n",
        "# lList = [0.005 ,0.01, 0.02, 0.1, 0.5, 0.99]\n",
        "# Nlist = [21,51,101,201,501,1001,2001]\n",
        "# for N in Nlist:\n",
        "#   n = N\n",
        "#   iterator2(lList)"
      ],
      "metadata": {
        "id": "J7mvZuUQFaI3"
      },
      "execution_count": null,
      "outputs": []
    },
    {
      "cell_type": "markdown",
      "source": [
        "As shown in Table (3), we can see that except for one case ($L = 0.01 , n = 20$), the number of iterations for fixed $n$s has slightly decreased. For the comparison refer to Table (4) and Table (5).\n",
        "\n",
        "<center>\n",
        "\n",
        "\n",
        "|  n   |      L     | Iterations |\n",
        "|------|------------|:-----------|\n",
        "| 20   |    0.005   |    NaN     |\n",
        "| 20   |    0.01    |    32     |\n",
        "| 20   |    0.02    |    13     |\n",
        "| 20   |    0.1     |    10     |\n",
        "| 20   |    0.5     |    4     |\n",
        "| 50   |    0.005   |    NaN     |\n",
        "| 50   |    0.01    |    NaN     |\n",
        "| 50   |    0.02    |    NaN     |\n",
        "| 50   |    0.1     |    10     |\n",
        "| 50   |    0.5     |    4     |\n",
        "| 100   |    0.005  |    NaN     |\n",
        "| 100   |    0.01   |    NaN     |\n",
        "| 100   |    0.02   |    NaN     |\n",
        "| 100   |    0.1    |    10     |\n",
        "| 100   |    0.5    |    4     |\n",
        "| 200   |    0.005  |    NaN     |\n",
        "| 200   |    0.01   |    NaN     |\n",
        "| 200   |    0.02   |    NaN     |\n",
        "| 200   |    0.1    |    11     |\n",
        "| 200   |    0.5    |    4     |\n",
        "| 500   |    0.005  |    NaN     |\n",
        "| 500   |    0.01   |    NaN     |\n",
        "| 500   |    0.02   |    NaN     |\n",
        "| 500   |    0.1    |    11     |\n",
        "| 500   |    0.5    |    4     |\n",
        "| 1000   |    0.005 |    NaN     |\n",
        "| 1000   |    0.01  |    NaN     |\n",
        "| 1000   |    0.02  |    NaN     |\n",
        "| 1000   |    0.1   |    11     |\n",
        "| 1000   |    0.5   |    4     |\n",
        "| 2000   |    0.005 |    NaN     |\n",
        "| 2000   |    0.01  |    NaN     |\n",
        "| 2000   |    0.02  |    NaN     |\n",
        "| 2000   |    0.1   |    11     |\n",
        "| 2000   |    0.5   |    4     |\n",
        "\n",
        "\n",
        "Table (3)\n",
        "\n",
        "</center>\n",
        "\n",
        "###With $\\xi$ as initial guess\n",
        "\n",
        "|  n   |      L     | Iterations |\n",
        "|------|------------|:-----------|\n",
        "| 20   |    0.02    |    17     |\n",
        "| 500  |    0.1     |    12     |\n",
        "| 2000 |    0.5     |    4     |\n",
        "\n",
        "#####Table (4)\n",
        "\n",
        "\n",
        "\n",
        "###With a mesh as initial guess\n",
        "\n",
        "|  n   |      L     | Iterations |\n",
        "|------|------------|:-----------|\n",
        "| 20   |    0.02    |    13     |\n",
        "| 500  |    0.1     |    11     |\n",
        "| 2000 |    0.5     |    4     |\n",
        "\n",
        "#####Table (5)\n"
      ],
      "metadata": {
        "id": "3k_ySPIBBCJB"
      }
    }
  ]
}